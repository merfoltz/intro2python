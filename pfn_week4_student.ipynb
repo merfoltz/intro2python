{
 "cells": [
  {
   "cell_type": "markdown",
   "metadata": {},
   "source": [
    "## Directly Iterate through a dictionary using a for loop\n",
    "\n",
    "### In case you forgot:\n",
    "\n",
    "The syntax for a Python dictionary begins with the left curly brace ```{```, ends with the right curly brace ```}```, and contains zero or more ```key : value``` items separated by commas ```,```. The key is separated from the value by a colon ```:```.\n",
    "\n",
    " #### Example:\n"
   ]
  },
  {
   "cell_type": "code",
   "execution_count": 2,
   "metadata": {},
   "outputs": [],
   "source": [
    "monkey_A = {\n",
    "'spiketimes': [0,20,34,56],\n",
    "'name': 'Einstein',\n",
    "}"
   ]
  },
  {
   "cell_type": "markdown",
   "metadata": {},
   "source": [
    "## Something I did not go over explicitly last time.\n",
    "When trying to look at the information in a Python dictionary, there are multiple methods, i.e. functions, that will return a tuple that contain the dictionary keys and values.\n",
    "\n",
    "```.keys()``` returns the keys through a dict_keys object.\n",
    "\n",
    "```.values()``` returns the values through a dict_values object.\n",
    "\n",
    "```.items()``` returns both the keys and values through a dict_items object.\n",
    "\n",
    "\n",
    "## Ok, now that we have that all sorted out, let's use a for loop to iterate through our dictionary!"
   ]
  },
  {
   "cell_type": "code",
   "execution_count": 3,
   "metadata": {},
   "outputs": [
    {
     "name": "stdout",
     "output_type": "stream",
     "text": [
      "dict_keys(['spiketimes', 'name'])\n",
      "spiketimes [0, 20, 34, 56]\n",
      "name Einstein\n"
     ]
    }
   ],
   "source": [
    "print(monkey_A.keys())\n",
    "for k in monkey_A.keys():\n",
    "    print(k,monkey_A[k])"
   ]
  },
  {
   "cell_type": "code",
   "execution_count": 4,
   "metadata": {},
   "outputs": [
    {
     "name": "stdout",
     "output_type": "stream",
     "text": [
      "dict_items([('spiketimes', [0, 20, 34, 56]), ('name', 'Einstein')])\n",
      "spiketimes [0, 20, 34, 56]\n",
      "name Einstein\n",
      "spiketimes [0, 20, 34, 56]\n",
      "name Einstein\n"
     ]
    }
   ],
   "source": [
    "print(monkey_A.items())# list of items\n",
    "\n",
    "for key, value in monkey_A.items(): # combines tuple unpacking with items\n",
    "    print(key, value)\n",
    "\n",
    "# the above is equivalent to:\n",
    "for item in monkey_A.items():\n",
    "    key, value = item\n",
    "    print(key, value)"
   ]
  },
  {
   "cell_type": "markdown",
   "metadata": {},
   "source": [
    "## Range\n",
    "\n",
    "We're going to use a function called range! Sharon is not going to really explain. Instead, they are going to show you something that can ```help```."
   ]
  },
  {
   "cell_type": "code",
   "execution_count": 5,
   "metadata": {},
   "outputs": [
    {
     "name": "stdout",
     "output_type": "stream",
     "text": [
      "\u001b[0;31mInit signature:\u001b[0m \u001b[0mrange\u001b[0m\u001b[0;34m(\u001b[0m\u001b[0mself\u001b[0m\u001b[0;34m,\u001b[0m \u001b[0;34m/\u001b[0m\u001b[0;34m,\u001b[0m \u001b[0;34m*\u001b[0m\u001b[0margs\u001b[0m\u001b[0;34m,\u001b[0m \u001b[0;34m**\u001b[0m\u001b[0mkwargs\u001b[0m\u001b[0;34m)\u001b[0m\u001b[0;34m\u001b[0m\u001b[0;34m\u001b[0m\u001b[0m\n",
      "\u001b[0;31mDocstring:\u001b[0m     \n",
      "range(stop) -> range object\n",
      "range(start, stop[, step]) -> range object\n",
      "\n",
      "Return an object that produces a sequence of integers from start (inclusive)\n",
      "to stop (exclusive) by step.  range(i, j) produces i, i+1, i+2, ..., j-1.\n",
      "start defaults to 0, and stop is omitted!  range(4) produces 0, 1, 2, 3.\n",
      "These are exactly the valid indices for a list of 4 elements.\n",
      "When step is given, it specifies the increment (or decrement).\n",
      "\u001b[0;31mType:\u001b[0m           type\n",
      "\u001b[0;31mSubclasses:\u001b[0m     "
     ]
    }
   ],
   "source": [
    "range?"
   ]
  },
  {
   "cell_type": "markdown",
   "metadata": {},
   "source": [
    "### Wow, how useful! Now we don't need Sharon to explain anything ever again. \n",
    "\n",
    "Just kidding! Anyway, ```range()``` is a useful function when using for loops."
   ]
  },
  {
   "cell_type": "code",
   "execution_count": 7,
   "metadata": {},
   "outputs": [
    {
     "name": "stdout",
     "output_type": "stream",
     "text": [
      "range(0, 6)\n",
      "0\n",
      "1\n",
      "2\n",
      "3\n",
      "4\n",
      "5\n"
     ]
    }
   ],
   "source": [
    "print(range(6))\n",
    "for i in range(6):\n",
    "    print(i)"
   ]
  },
  {
   "cell_type": "markdown",
   "metadata": {},
   "source": [
    "You can also create a for loop through a range like above that starts at 1 and stops at 7 (inclusive).\n"
   ]
  },
  {
   "cell_type": "code",
   "execution_count": 8,
   "metadata": {},
   "outputs": [
    {
     "name": "stdout",
     "output_type": "stream",
     "text": [
      "1\n",
      "2\n",
      "3\n",
      "4\n",
      "5\n",
      "6\n",
      "7\n"
     ]
    }
   ],
   "source": [
    "for i in range(1,8):\n",
    "    print(i)"
   ]
  },
  {
   "cell_type": "markdown",
   "metadata": {},
   "source": [
    "We can also create one that starts at 0 and ends at 6 (inclusive) where only every other number is iterated through."
   ]
  },
  {
   "cell_type": "code",
   "execution_count": 9,
   "metadata": {},
   "outputs": [
    {
     "name": "stdout",
     "output_type": "stream",
     "text": [
      "0\n",
      "2\n",
      "4\n",
      "6\n"
     ]
    }
   ],
   "source": [
    "for i in range(0,7,2):\n",
    "    print(i)"
   ]
  },
  {
   "cell_type": "markdown",
   "metadata": {},
   "source": [
    "How can we use range with a for loop to print both the index and the value for each element of a list?\n",
    "\n",
    "When you want to modify entries in a list, it is helpful to have the index for the entries."
   ]
  },
  {
   "cell_type": "code",
   "execution_count": 11,
   "metadata": {},
   "outputs": [
    {
     "name": "stdout",
     "output_type": "stream",
     "text": [
      "['Sharon', 'Abhi', 'Sam']\n",
      "0 Sharon\n",
      "1 Abhi\n",
      "2 Sam\n"
     ]
    }
   ],
   "source": [
    "teachers =[\"Sharon\", \"Abhi\", \"Sam\"]\n",
    "print(teachers)\n",
    "for i in range(len(teachers)):\n",
    "  print(i, teachers[i])"
   ]
  },
  {
   "cell_type": "markdown",
   "metadata": {},
   "source": [
    "## List Comprehension\n",
    "With something called **list comprehension**, you can use a for loop in line to create dictionaries and lists like this:"
   ]
  },
  {
   "cell_type": "code",
   "execution_count": 12,
   "metadata": {},
   "outputs": [
    {
     "name": "stdout",
     "output_type": "stream",
     "text": [
      "[0, 4, 16]\n"
     ]
    }
   ],
   "source": [
    "my_list = [x**2  for x in range(6) if x%2==0] # only uses x's where the condition is true\n",
    "print(my_list)"
   ]
  },
  {
   "cell_type": "code",
   "execution_count": null,
   "metadata": {},
   "outputs": [],
   "source": [
    "# The above code is equivalent to:\n",
    "my_list = []\n",
    "for x in range(6):\n",
    "  if x%2 == 0:\n",
    "    my_list.append(x**2)\n",
    "\n",
    "print(my_list)"
   ]
  },
  {
   "cell_type": "markdown",
   "metadata": {},
   "source": [
    "## Ok but why would I ever do that?\n",
    "\n",
    "Well, it's cleaner... And usually a lot easier to read. If you disagree because you hate looking at math, check this NEXT example out--you can do this using an existing list too! \n",
    "\n",
    "### Example:\n",
    "Based on a list of fruits, you want a new list, containing only the fruits with the letter \"a\" in the name."
   ]
  },
  {
   "cell_type": "code",
   "execution_count": 13,
   "metadata": {},
   "outputs": [],
   "source": [
    "fruits = ['mango', 'kiwi', 'strawberry', 'guava', 'pineapple', 'mandarin orange']\n"
   ]
  },
  {
   "cell_type": "markdown",
   "metadata": {},
   "source": [
    "Without list comprehension you will have to write a for loop with a conditional test inside:"
   ]
  },
  {
   "cell_type": "code",
   "execution_count": 14,
   "metadata": {},
   "outputs": [
    {
     "name": "stdout",
     "output_type": "stream",
     "text": [
      "['mango', 'strawberry', 'guava', 'pineapple', 'mandarin orange']\n"
     ]
    }
   ],
   "source": [
    "newlist = []\n",
    "\n",
    "for name in fruits:\n",
    "  if \"a\" in name:\n",
    "    newlist.append(name)\n",
    "\n",
    "print(newlist)"
   ]
  },
  {
   "cell_type": "markdown",
   "metadata": {},
   "source": [
    "With list comprehension, you can do all of that with only one line of code! And it's a little easier and faster to read."
   ]
  },
  {
   "cell_type": "code",
   "execution_count": 15,
   "metadata": {},
   "outputs": [
    {
     "name": "stdout",
     "output_type": "stream",
     "text": [
      "['mango', 'strawberry', 'guava', 'pineapple', 'mandarin orange']\n"
     ]
    }
   ],
   "source": [
    "newlist = [name for name in fruits if \"a\" in name]\n",
    "\n",
    "print(newlist)\n"
   ]
  },
  {
   "cell_type": "code",
   "execution_count": null,
   "metadata": {},
   "outputs": [],
   "source": [
    "### FYI, for those who hate math:\n",
    "newlist = [x for x in fruits if \"a\" in x]\n",
    "# if this is harder for you to read than using the variable 'name', \n",
    "# then I hope this serves as a reminder to always name your variables \n",
    "# in a way that will make things easier for you to understand. Also,\n",
    "# I apologize in advance for the homework problems."
   ]
  },
  {
   "cell_type": "markdown",
   "metadata": {},
   "source": [
    "## Exercise:\n",
    "Create a variable named ```capitalized_fruits``` and use list comprehension syntax to produce another list from ```fruits``` that has capitalized  ['Mango', 'Kiwi', 'Strawberry', etc...]. \n",
    "### Hint: \n",
    "You can use the function .upper() to capitalize strings like so:"
   ]
  },
  {
   "cell_type": "code",
   "execution_count": 17,
   "metadata": {},
   "outputs": [
    {
     "data": {
      "text/plain": [
       "'N'"
      ]
     },
     "execution_count": 17,
     "metadata": {},
     "output_type": "execute_result"
    }
   ],
   "source": [
    "fruits[0][0].upper()"
   ]
  },
  {
   "cell_type": "code",
   "execution_count": 25,
   "metadata": {},
   "outputs": [
    {
     "name": "stdout",
     "output_type": "stream",
     "text": [
      "['Mango', 'Kiwi', 'Strawberry', 'Guava', 'Pineapple', 'Mandarin orange']\n"
     ]
    }
   ],
   "source": [
    "capitalized_fruits = [name[0].upper() + name[1:] for name in fruits]\n",
    "#1: will just do from 1 all the way to the nd (that's what the colon does))\n",
    "\n",
    "print(capitalized_fruits)"
   ]
  },
  {
   "cell_type": "markdown",
   "metadata": {},
   "source": [
    "## Enumerate\n",
    "\n",
    "Enumerate lets you access both the index and the item itself for an item in a list -- this is useful when you want access to both the item and the index of that item in the body of the loop. You can always access the item by using `item = list[index]` but enumerate lets you shorten this."
   ]
  },
  {
   "cell_type": "code",
   "execution_count": 26,
   "metadata": {},
   "outputs": [],
   "source": [
    "expat_best_bites =['cauliflower wings', 'tater tots']"
   ]
  },
  {
   "cell_type": "code",
   "execution_count": 27,
   "metadata": {},
   "outputs": [
    {
     "name": "stdout",
     "output_type": "stream",
     "text": [
      "0 cauliflower wings\n",
      "1 tater tots\n"
     ]
    }
   ],
   "source": [
    "# What if we want both the index and the value at that index for a list?\n",
    "for i in range(len(expat_best_bites)):\n",
    "  print(i, expat_best_bites[i])"
   ]
  },
  {
   "cell_type": "code",
   "execution_count": 28,
   "metadata": {},
   "outputs": [
    {
     "name": "stdout",
     "output_type": "stream",
     "text": [
      "0 cauliflower wings\n",
      "1 tater tots\n"
     ]
    }
   ],
   "source": [
    "# Enumerate lets us get both at the same time elegantly!\n",
    "for i, item in enumerate(expat_best_bites):\n",
    "  print(i, item)"
   ]
  },
  {
   "cell_type": "markdown",
   "metadata": {},
   "source": [
    "## Infinite loop warning!!!"
   ]
  },
  {
   "cell_type": "code",
   "execution_count": 29,
   "metadata": {},
   "outputs": [
    {
     "name": "stdout",
     "output_type": "stream",
     "text": [
      "Mobi\n",
      "Corn\n",
      "Marcel\n"
     ]
    }
   ],
   "source": [
    "pet_names = ['Mobi', 'Corn','Marcel']\n",
    "for i in pet_names:\n",
    "    print(i)"
   ]
  },
  {
   "cell_type": "markdown",
   "metadata": {},
   "source": [
    "## Please do not run this :-) its only for sharon\n",
    "Sometimes when you write loops, you might get stuck in infinite loops. Run the following code. Then use the \"interrupt\" button at the top to make Marcel stop barking."
   ]
  },
  {
   "cell_type": "code",
   "execution_count": null,
   "metadata": {},
   "outputs": [],
   "source": [
    "# Marcel is a dramatic young corgi.\n",
    "bark_counter =[0]\n",
    "for i in bark_counter:\n",
    "    print(\"MARCEL NEEDS YOUR ATTENTION!!!! NUMBER OF TIMES HES BARKED: \"+str(i))\n",
    "    bark_counter.append(i+1)\n",
    "\n",
    "# Why do you think this ran infinitely?"
   ]
  },
  {
   "cell_type": "markdown",
   "metadata": {
    "id": "T7qaN74zAzyL"
   },
   "source": [
    "# While loops\n",
    "\n",
    "While loops, unlike for loops, will iterate indefinitely, until the condition following the while is False. You might want to do this if you are using an iterative algorithm where you want the performance to get above a certain level before stopping, for example with machine learning (more on this later)."
   ]
  },
  {
   "cell_type": "code",
   "execution_count": 30,
   "metadata": {
    "colab": {
     "base_uri": "https://localhost:8080/"
    },
    "id": "a1LkUiWn_kzk",
    "outputId": "00a2d26d-b72b-47da-de23-8f4b2613a71f"
   },
   "outputs": [
    {
     "name": "stdout",
     "output_type": "stream",
     "text": [
      "Marcel demands pets! You have given him 0 pets.\n",
      "Marcel demands pets! You have given him 1 pets.\n",
      "Marcel demands pets! You have given him 2 pets.\n",
      "Marcel demands pets! You have given him 3 pets.\n",
      "Marcel demands pets! You have given him 4 pets.\n",
      "Marcel demands pets! You have given him 5 pets.\n",
      "Marcel demands pets! You have given him 6 pets.\n",
      "Marcel demands pets! You have given him 7 pets.\n",
      "Marcel demands pets! You have given him 8 pets.\n",
      "Marcel demands pets! You have given him 9 pets.\n",
      "Marcel demands pets! You have given him 10 pets.\n",
      "Marcel demands pets! You have given him 11 pets.\n",
      "Marcel demands pets! You have given him 12 pets.\n",
      "Marcel demands pets! You have given him 13 pets.\n",
      "Marcel demands pets! You have given him 14 pets.\n",
      "Marcel demands pets! You have given him 15 pets.\n",
      "Marcel demands pets! You have given him 16 pets.\n",
      "Marcel demands pets! You have given him 17 pets.\n",
      "Marcel demands pets! You have given him 18 pets.\n",
      "Marcel demands pets! You have given him 19 pets.\n",
      "Marcel demands pets! You have given him 20 pets.\n",
      "Marcel demands pets! You have given him 21 pets.\n",
      "Marcel demands pets! You have given him 22 pets.\n",
      "Marcel demands pets! You have given him 23 pets.\n",
      "Marcel demands pets! You have given him 24 pets.\n",
      "Marcel is satisfied after receiving 25 pets.\n"
     ]
    }
   ],
   "source": [
    "# While loops\n",
    "# find largest power of 2 less than 9000\n",
    "pets = 0\n",
    "while pets<25:\n",
    "  print('Marcel demands pets! You have given him '+str(pets)+ ' pets.')\n",
    "  pets +=1 #pets = pets+1\n",
    "print('Marcel is satisfied after receiving '+str(pets) + ' pets.')"
   ]
  },
  {
   "cell_type": "markdown",
   "metadata": {
    "id": "8T82jN-OA6ES"
   },
   "source": [
    "## Don't run this next cell (only sharon will)\n",
    "\n",
    "If you put a condition that is never False, your code may run indefinitely, and you may have to interrupt your kernel to get it to stop."
   ]
  },
  {
   "cell_type": "code",
   "execution_count": null,
   "metadata": {
    "colab": {
     "base_uri": "https://localhost:8080/",
     "height": 1000
    },
    "id": "bG5S-RUZBCtD",
    "outputId": "9e9e02c5-f4e1-4432-9b34-7cea6036e50f"
   },
   "outputs": [],
   "source": [
    "i=0\n",
    "while i < 10:\n",
    "  print(i)"
   ]
  },
  {
   "cell_type": "markdown",
   "metadata": {
    "id": "0sPwWNa9BEXx"
   },
   "source": [
    "## Exercise:\n",
    "The Collatz sequence begins with some starting number. Given its previous number $n$, it generates the next number based on the following rule: if $n$ is even, the next number is $n/2$. If $n$ is odd, the next number is $3n+1$.\n",
    "\n",
    "Write some code below that generates the Collatz sequence for a starting number of $27$ until the number hits $1$."
   ]
  },
  {
   "cell_type": "code",
   "execution_count": 32,
   "metadata": {
    "id": "EuQ_osmLA9mI"
   },
   "outputs": [
    {
     "name": "stdout",
     "output_type": "stream",
     "text": [
      "82\n",
      "41.0\n",
      "124.0\n",
      "62.0\n",
      "31.0\n",
      "94.0\n",
      "47.0\n",
      "142.0\n",
      "71.0\n",
      "214.0\n",
      "107.0\n",
      "322.0\n",
      "161.0\n",
      "484.0\n",
      "242.0\n",
      "121.0\n",
      "364.0\n",
      "182.0\n",
      "91.0\n",
      "274.0\n",
      "137.0\n",
      "412.0\n",
      "206.0\n",
      "103.0\n",
      "310.0\n",
      "155.0\n",
      "466.0\n",
      "233.0\n",
      "700.0\n",
      "350.0\n",
      "175.0\n",
      "526.0\n",
      "263.0\n",
      "790.0\n",
      "395.0\n",
      "1186.0\n",
      "593.0\n",
      "1780.0\n",
      "890.0\n",
      "445.0\n",
      "1336.0\n",
      "668.0\n",
      "334.0\n",
      "167.0\n",
      "502.0\n",
      "251.0\n",
      "754.0\n",
      "377.0\n",
      "1132.0\n",
      "566.0\n",
      "283.0\n",
      "850.0\n",
      "425.0\n",
      "1276.0\n",
      "638.0\n",
      "319.0\n",
      "958.0\n",
      "479.0\n",
      "1438.0\n",
      "719.0\n",
      "2158.0\n",
      "1079.0\n",
      "3238.0\n",
      "1619.0\n",
      "4858.0\n",
      "2429.0\n",
      "7288.0\n",
      "3644.0\n",
      "1822.0\n",
      "911.0\n",
      "2734.0\n",
      "1367.0\n",
      "4102.0\n",
      "2051.0\n",
      "6154.0\n",
      "3077.0\n",
      "9232.0\n",
      "4616.0\n",
      "2308.0\n",
      "1154.0\n",
      "577.0\n",
      "1732.0\n",
      "866.0\n",
      "433.0\n",
      "1300.0\n",
      "650.0\n",
      "325.0\n",
      "976.0\n",
      "488.0\n",
      "244.0\n",
      "122.0\n",
      "61.0\n",
      "184.0\n",
      "92.0\n",
      "46.0\n",
      "23.0\n",
      "70.0\n",
      "35.0\n",
      "106.0\n",
      "53.0\n",
      "160.0\n",
      "80.0\n",
      "40.0\n",
      "20.0\n",
      "10.0\n",
      "5.0\n",
      "16.0\n",
      "8.0\n",
      "4.0\n",
      "2.0\n",
      "1.0\n"
     ]
    }
   ],
   "source": [
    "# Collatz sequence\n",
    "n=27\n",
    "while n>1: #can also have n!=1\n",
    "    if n%2==0:\n",
    "        n=(n/2)\n",
    "    else:\n",
    "        n=((3*n)+1)\n",
    "    print(n)"
   ]
  },
  {
   "cell_type": "markdown",
   "metadata": {
    "id": "425r6g5gBLt8"
   },
   "source": [
    "# Break and Continue\n",
    "\n",
    "`break` and `continue` are statements that can be used within loops.\n",
    "\n",
    "When code reaches a `continue` statement, it jumps to the next iteration of the loop without running the rest of the code in the loop."
   ]
  },
  {
   "cell_type": "code",
   "execution_count": 33,
   "metadata": {
    "colab": {
     "base_uri": "https://localhost:8080/"
    },
    "id": "74DeTEeXBI_g",
    "outputId": "c52da6da-df7c-49cb-ef8e-10dad732f5ce"
   },
   "outputs": [
    {
     "name": "stdout",
     "output_type": "stream",
     "text": [
      "New loop\n",
      "New loop\n",
      "1\n",
      "New loop\n",
      "New loop\n",
      "3\n",
      "New loop\n",
      "New loop\n",
      "5\n",
      "New loop\n",
      "New loop\n",
      "7\n",
      "New loop\n",
      "New loop\n",
      "9\n"
     ]
    }
   ],
   "source": [
    "for i in range(10):\n",
    "  print('New loop')\n",
    "  if i%2==0:\n",
    "    continue\n",
    "  print(i) # This command is skipped for all even numbers"
   ]
  },
  {
   "cell_type": "markdown",
   "metadata": {},
   "source": [
    "When code reaches a `break` statement it jumps outside the loop (skipping any remaining iterations) without running the rest of the code in the loop.\n"
   ]
  },
  {
   "cell_type": "code",
   "execution_count": 34,
   "metadata": {
    "colab": {
     "base_uri": "https://localhost:8080/"
    },
    "id": "bAP5dWEWBQFD",
    "outputId": "59f38446-35cf-4654-d708-7b4f5de14c9a"
   },
   "outputs": [
    {
     "name": "stdout",
     "output_type": "stream",
     "text": [
      "New loop\n",
      "0\n",
      "New loop\n",
      "1\n",
      "New loop\n",
      "2\n",
      "New loop\n",
      "3\n",
      "New loop\n",
      "4\n",
      "New loop\n"
     ]
    }
   ],
   "source": [
    "for i in range(10):\n",
    "  print('New loop')\n",
    "  if i==5:\n",
    "    break # Leaves the loop completely once it encounters this statement\n",
    "  print(i)"
   ]
  },
  {
   "cell_type": "markdown",
   "metadata": {},
   "source": [
    "A `pass` statement, finally is completely ignored. This is useful when code is required syntactically, but you don't actually want to run anything there."
   ]
  },
  {
   "cell_type": "code",
   "execution_count": 35,
   "metadata": {
    "colab": {
     "base_uri": "https://localhost:8080/"
    },
    "id": "mQxP5ykrBSOd",
    "outputId": "05afb9cb-480f-4d71-c8ee-dccaa819c312"
   },
   "outputs": [
    {
     "name": "stdout",
     "output_type": "stream",
     "text": [
      "New loop\n",
      "0\n",
      "New loop\n",
      "1\n",
      "New loop\n",
      "2\n",
      "New loop\n",
      "3\n",
      "New loop\n",
      "4\n",
      "New loop\n",
      "5\n",
      "New loop\n",
      "6\n",
      "New loop\n",
      "7\n",
      "New loop\n",
      "8\n",
      "New loop\n",
      "9\n"
     ]
    }
   ],
   "source": [
    "for i in range(10):\n",
    "  print('New loop')\n",
    "  if i==5:\n",
    "    pass # Leaves the loop completely once it encounters this statement\n",
    "  print(i)"
   ]
  },
  {
   "cell_type": "markdown",
   "metadata": {
    "id": "6bLeLWZuBVYB"
   },
   "source": [
    "For these statements it may not be entirely clear right now what their purpose is, but they become particularly useful in managing more complex code.\n",
    "\n",
    "### Example:\n",
    "\n",
    "Say, for instance, you are interested in seeing how voltage to calcium transformations occur in your favorite neuron. You run some pre-processing code on a large batch of 2p imaging data is paired with some simultaneous E-phys recordings, and you would typically let the code run overnight since it takes a lot of computing power.  However, some subset of your imaging data does not have any e-phys recordings that are paired with it, and your code will throw an error when you don't have that happening. \n",
    "\n",
    "A lot of people would just let it run overnight, come back the next day, and find that they have only processed 20/150 files because on the 21st file, it stopped running because you ran into an error of missing the e-phys data. They would then be like, \"aw gosh, that sucks! I'll just check my data more thoroughly the next time I run this!\" and then it would happen maybe like 20 more times to them. \n",
    "\n",
    "But YOU? This would only ever happen to you ONCE because you know about ```continue``` and ```pass``` statements!*** So, to avoid ever running into this problem ever again, you would just check to see if there is a e-phys recording, and if there isn't, then to ```pass``` the loop that would process the e-phys recording so you don't get thrown an error that would stop the entire preprocessing pipeline.\n",
    "\n",
    "\n",
    "***Note that there are many ways to avoid this; you don't have to use ```continue, pass or break``` statements. I was just trying to think of an example. I personally would probably use a combination of ```try/except``` and ```break/continue/pass``` statements. \n",
    "\n",
    "Hmmm? What is ```try/except```, you ask? Well, it's going to be explained in the next section. "
   ]
  },
  {
   "cell_type": "markdown",
   "metadata": {},
   "source": [
    "# Try / Except\n",
    "\n",
    "\n",
    "`try` tries the code in the `try` codeblock, and if it gives an error, runs code in an `except` code block. Best practice is to specify the errors you expect in the `except` statement so that you don't accidentally allow an unexpected error to go by unreported and unnoticed.\n",
    "\n",
    "For example, lets say that we want to count the number of occurrences of each letter in a given word -- for this example we will use abracadabra, but we want our code to work on any word.\n",
    "\n",
    "We might decide to do this using a dictionary where the keys are the letters and the values are the number of times that letter has occurred. We only want to have letters that do occur in the word as keys in our dictionary."
   ]
  },
  {
   "cell_type": "code",
   "execution_count": 36,
   "metadata": {},
   "outputs": [
    {
     "ename": "KeyError",
     "evalue": "'a'",
     "output_type": "error",
     "traceback": [
      "\u001b[0;31m---------------------------------------------------------------------------\u001b[0m",
      "\u001b[0;31mKeyError\u001b[0m                                  Traceback (most recent call last)",
      "Cell \u001b[0;32mIn[36], line 5\u001b[0m\n\u001b[1;32m      3\u001b[0m letter_counts \u001b[38;5;241m=\u001b[39m {}\n\u001b[1;32m      4\u001b[0m \u001b[38;5;28;01mfor\u001b[39;00m letter \u001b[38;5;129;01min\u001b[39;00m word: \u001b[38;5;66;03m# we can loop through strings like lists or tuples.\u001b[39;00m\n\u001b[0;32m----> 5\u001b[0m   letter_counts[letter]\u001b[38;5;241m+\u001b[39m\u001b[38;5;241m=\u001b[39m\u001b[38;5;241m1\u001b[39m\n",
      "\u001b[0;31mKeyError\u001b[0m: 'a'"
     ]
    }
   ],
   "source": [
    "word = \"abracadabra\"\n",
    "\n",
    "letter_counts = {}\n",
    "for letter in word: # we can loop through strings like lists or tuples.\n",
    "  letter_counts[letter]+=1 # add one to the value at key letter"
   ]
  },
  {
   "cell_type": "code",
   "execution_count": 37,
   "metadata": {},
   "outputs": [
    {
     "name": "stdout",
     "output_type": "stream",
     "text": [
      "{'a': 5, 'b': 2, 'r': 2, 'c': 1, 'd': 1}\n"
     ]
    }
   ],
   "source": [
    "word = \"abracadabra\"\n",
    "\n",
    "\n",
    "letter_counts = {}\n",
    "for letter in word:\n",
    "  try:\n",
    "    letter_counts[letter]+=1\n",
    "  except KeyError: # we specify the type of error we expect here\n",
    "    letter_counts[letter] = 1\n",
    "\n",
    "print(letter_counts)"
   ]
  },
  {
   "cell_type": "markdown",
   "metadata": {},
   "source": [
    "See below for why it is important to specify the type of error you expect. Since we specified the type of error we expected and got a different error, we still find out that there is an error, and can take precautions to make sure we don't, for example, overwrite important info."
   ]
  },
  {
   "cell_type": "code",
   "execution_count": 38,
   "metadata": {},
   "outputs": [
    {
     "ename": "TypeError",
     "evalue": "can only concatenate str (not \"int\") to str",
     "output_type": "error",
     "traceback": [
      "\u001b[0;31m---------------------------------------------------------------------------\u001b[0m",
      "\u001b[0;31mTypeError\u001b[0m                                 Traceback (most recent call last)",
      "Cell \u001b[0;32mIn[38], line 8\u001b[0m\n\u001b[1;32m      6\u001b[0m \u001b[38;5;28;01mfor\u001b[39;00m letter \u001b[38;5;129;01min\u001b[39;00m word:\n\u001b[1;32m      7\u001b[0m   \u001b[38;5;28;01mtry\u001b[39;00m:\n\u001b[0;32m----> 8\u001b[0m     letter_counts[letter]\u001b[38;5;241m+\u001b[39m\u001b[38;5;241m=\u001b[39m\u001b[38;5;241m1\u001b[39m\n\u001b[1;32m      9\u001b[0m   \u001b[38;5;28;01mexcept\u001b[39;00m \u001b[38;5;167;01mKeyError\u001b[39;00m: \u001b[38;5;66;03m# we specify the type of error we expect here\u001b[39;00m\n\u001b[1;32m     10\u001b[0m     letter_counts[letter] \u001b[38;5;241m=\u001b[39m \u001b[38;5;241m1\u001b[39m\n",
      "\u001b[0;31mTypeError\u001b[0m: can only concatenate str (not \"int\") to str"
     ]
    }
   ],
   "source": [
    "word = \"abracadabra\"\n",
    "\n",
    "\n",
    "letter_counts = {}\n",
    "letter_counts['a'] = \"important info that should not be overwritten\" # something unexpected as a value\n",
    "for letter in word:\n",
    "  try:\n",
    "    letter_counts[letter]+=1\n",
    "  except KeyError: # we specify the type of error we expect here\n",
    "    letter_counts[letter] = 1\n",
    "\n",
    "print(letter_counts)"
   ]
  },
  {
   "cell_type": "markdown",
   "metadata": {},
   "source": [
    "What happens if you do not specify KeyError after `except` and just write `except:`?\n",
    "\n",
    "Try modifying below."
   ]
  },
  {
   "cell_type": "code",
   "execution_count": null,
   "metadata": {},
   "outputs": [],
   "source": [
    "word = \"abracadabra\"\n",
    "\n",
    "\n",
    "letter_counts = {}\n",
    "letter_counts['a'] = \"important info that should not be overwritten\" # something unexpected as a value\n",
    "for letter in word:\n",
    "  try:\n",
    "    letter_counts[letter]+=1\n",
    "  except KeyError: # we specify the type of error we expect here\n",
    "    letter_counts[letter] = 1\n",
    "\n",
    "print(letter_counts)"
   ]
  },
  {
   "cell_type": "markdown",
   "metadata": {
    "id": "oeEiJMgxBnJh"
   },
   "source": [
    "# Functions\n",
    "\n",
    "Currently, you are writing code simply by defining code that will be executed immediately. As you create larger codebases and share them with other people, it will be important for you to structure your code in functions: structure which execute a certain piece of code.\n",
    "\n",
    "For example, the Fibonacci sequence starts with $x_0=0$ and $x_1=1$. We then define $x_{j+2}=x_j+x_{j+1}$. The following functions prints out each value of the Fibonacci sequence until some value $n$.\n",
    "\n",
    "You can recognize functions by the `def` symbol in the beginning. `fibonacci` is the function's name and the variable in parentheses afterwards is an argument provided to the function. (Multiple arguments would be separated by commas.)\n"
   ]
  },
  {
   "cell_type": "code",
   "execution_count": 40,
   "metadata": {
    "id": "m1hs159wBmGc"
   },
   "outputs": [],
   "source": [
    "def fibonacci(n):\n",
    "  \"\"\"\n",
    "  Print fibonnacci series up to n.\n",
    "  Args:\n",
    "      n (int): Maximum value of the fibonacci series to print.\n",
    "\n",
    "  \"\"\"\n",
    "  a,b = 0, 1\n",
    "  while a <n:\n",
    "    print(a)\n",
    "    next= a+b\n",
    "    a = b\n",
    "    b = next"
   ]
  },
  {
   "cell_type": "code",
   "execution_count": null,
   "metadata": {
    "colab": {
     "base_uri": "https://localhost:8080/"
    },
    "id": "GwHQSVH9Bslj",
    "outputId": "5d649f3f-47c4-40d3-bfd5-5681bb3de5ed"
   },
   "outputs": [],
   "source": [
    "fibonacci(3000)"
   ]
  },
  {
   "cell_type": "code",
   "execution_count": null,
   "metadata": {
    "colab": {
     "base_uri": "https://localhost:8080/"
    },
    "id": "RhTLplvXBuh8",
    "outputId": "2615aa3b-1f4e-4c6d-9024-397bbb7ec133"
   },
   "outputs": [],
   "source": [
    "help(fibonacci)"
   ]
  },
  {
   "cell_type": "markdown",
   "metadata": {},
   "source": [
    "I generally prefer using ```?```"
   ]
  },
  {
   "cell_type": "code",
   "execution_count": null,
   "metadata": {},
   "outputs": [],
   "source": [
    "fibonacci? #an IPython exclusive btw :-)"
   ]
  },
  {
   "cell_type": "markdown",
   "metadata": {
    "id": "LczLpH5GBy_f"
   },
   "source": [
    "## Exercise\n",
    "\n",
    "Write a function (called `collatz`) that takes in a starting value and prints out each value of the Collatz sequence. As a reminder, the rule was:\n",
    "- if the previous value $n$ was even, the next value is $n/2$.\n",
    "- if the previous value was odd, the next value is $3n+1$.\n",
    "Let the function end when the value taken is $1$."
   ]
  },
  {
   "cell_type": "code",
   "execution_count": null,
   "metadata": {
    "id": "GlFUahxvBx62"
   },
   "outputs": [],
   "source": [
    "#basics of a funtion\n",
    "def function(x)\n",
    "    \"\"\"\n",
    "    docstring\n",
    "    \"\"\"\n",
    "    return"
   ]
  },
  {
   "cell_type": "code",
   "execution_count": 41,
   "metadata": {
    "id": "OAoG3UELB5ny"
   },
   "outputs": [],
   "source": [
    "def collatz(n):\n",
    "    \"\"\"\n",
    "    takes a starting value and prints the next value of the collatz sequence\n",
    "    \"\"\"\n",
    "    while n!=1:\n",
    "        if n%2 == 0:\n",
    "            n=(n/2)\n",
    "        else:\n",
    "            n = 3*n+1\n",
    "        print(n)\n"
   ]
  },
  {
   "cell_type": "code",
   "execution_count": 43,
   "metadata": {},
   "outputs": [
    {
     "name": "stdout",
     "output_type": "stream",
     "text": [
      "82\n",
      "41.0\n",
      "124.0\n",
      "62.0\n",
      "31.0\n",
      "94.0\n",
      "47.0\n",
      "142.0\n",
      "71.0\n",
      "214.0\n",
      "107.0\n",
      "322.0\n",
      "161.0\n",
      "484.0\n",
      "242.0\n",
      "121.0\n",
      "364.0\n",
      "182.0\n",
      "91.0\n",
      "274.0\n",
      "137.0\n",
      "412.0\n",
      "206.0\n",
      "103.0\n",
      "310.0\n",
      "155.0\n",
      "466.0\n",
      "233.0\n",
      "700.0\n",
      "350.0\n",
      "175.0\n",
      "526.0\n",
      "263.0\n",
      "790.0\n",
      "395.0\n",
      "1186.0\n",
      "593.0\n",
      "1780.0\n",
      "890.0\n",
      "445.0\n",
      "1336.0\n",
      "668.0\n",
      "334.0\n",
      "167.0\n",
      "502.0\n",
      "251.0\n",
      "754.0\n",
      "377.0\n",
      "1132.0\n",
      "566.0\n",
      "283.0\n",
      "850.0\n",
      "425.0\n",
      "1276.0\n",
      "638.0\n",
      "319.0\n",
      "958.0\n",
      "479.0\n",
      "1438.0\n",
      "719.0\n",
      "2158.0\n",
      "1079.0\n",
      "3238.0\n",
      "1619.0\n",
      "4858.0\n",
      "2429.0\n",
      "7288.0\n",
      "3644.0\n",
      "1822.0\n",
      "911.0\n",
      "2734.0\n",
      "1367.0\n",
      "4102.0\n",
      "2051.0\n",
      "6154.0\n",
      "3077.0\n",
      "9232.0\n",
      "4616.0\n",
      "2308.0\n",
      "1154.0\n",
      "577.0\n",
      "1732.0\n",
      "866.0\n",
      "433.0\n",
      "1300.0\n",
      "650.0\n",
      "325.0\n",
      "976.0\n",
      "488.0\n",
      "244.0\n",
      "122.0\n",
      "61.0\n",
      "184.0\n",
      "92.0\n",
      "46.0\n",
      "23.0\n",
      "70.0\n",
      "35.0\n",
      "106.0\n",
      "53.0\n",
      "160.0\n",
      "80.0\n",
      "40.0\n",
      "20.0\n",
      "10.0\n",
      "5.0\n",
      "16.0\n",
      "8.0\n",
      "4.0\n",
      "2.0\n",
      "1.0\n"
     ]
    }
   ],
   "source": [
    "collatz(27)"
   ]
  },
  {
   "cell_type": "markdown",
   "metadata": {
    "id": "HR7gvMeGB_Xq"
   },
   "source": [
    "## return\n",
    "\n",
    "The return sequence leaves the function and returns any variable coming afterwards."
   ]
  },
  {
   "cell_type": "code",
   "execution_count": 48,
   "metadata": {
    "id": "fm6KT6MUB8Zd"
   },
   "outputs": [],
   "source": [
    "def fib_return (n):\n",
    "  \"\"\"\n",
    "  Print fibonnacci series up to n.\n",
    "  Args:\n",
    "      n (int): Maximum value of the fibonacci series to return.\n",
    "  Returns:\n",
    "      list: List of fibonacci sequence values\n",
    "  \"\"\"\n",
    "\n",
    "  fib_list = []\n",
    "  a,b = 0, 1\n",
    "  while a <n:\n",
    "    fib_list.append(a)\n",
    "    next= a+b\n",
    "    a = b\n",
    "    b = next\n",
    "  return fib_list #return -- at the end give me this so can set u something whatever"
   ]
  },
  {
   "cell_type": "code",
   "execution_count": 49,
   "metadata": {
    "colab": {
     "base_uri": "https://localhost:8080/"
    },
    "id": "E-ny6eM8CF6C",
    "outputId": "ff2e4202-3687-45be-8bfa-10edd8b0d3c2"
   },
   "outputs": [
    {
     "data": {
      "text/plain": [
       "[0, 1, 1, 2, 3, 5, 8, 13, 21, 34, 55, 89, 144, 233, 377, 610, 987]"
      ]
     },
     "execution_count": 49,
     "metadata": {},
     "output_type": "execute_result"
    }
   ],
   "source": [
    "fib_return(1000)"
   ]
  },
  {
   "cell_type": "code",
   "execution_count": null,
   "metadata": {
    "id": "9qpbj7YaCHke"
   },
   "outputs": [],
   "source": [
    "my_fib_list = fib_return(1000)"
   ]
  },
  {
   "cell_type": "code",
   "execution_count": null,
   "metadata": {
    "colab": {
     "base_uri": "https://localhost:8080/"
    },
    "id": "HPTRBcdhCJcL",
    "outputId": "d4dc7dab-6add-4837-efa4-e9972e9a9ee9"
   },
   "outputs": [],
   "source": [
    "my_fib_list"
   ]
  },
  {
   "cell_type": "markdown",
   "metadata": {
    "id": "sRln9IGJCL_s"
   },
   "source": [
    "## Default arguments"
   ]
  },
  {
   "cell_type": "code",
   "execution_count": null,
   "metadata": {
    "colab": {
     "base_uri": "https://localhost:8080/",
     "height": 191
    },
    "id": "uxXoul6RCK7w",
    "outputId": "5111e1a5-ae9b-49a9-b65a-9eba78a1adaa"
   },
   "outputs": [],
   "source": [
    "# We cannot run fib_return without specifying n:\n",
    "fib_return()"
   ]
  },
  {
   "cell_type": "code",
   "execution_count": null,
   "metadata": {
    "id": "-V835vQjCQGR"
   },
   "outputs": [],
   "source": [
    "# Default arguments can be specified but don't have to be:\n",
    "def fib_return (n=1):\n",
    "  \"\"\"\n",
    "  Print fibonnacci series up to n.\n",
    "  Args:\n",
    "      n (int): Maximum value of the fibonacci series to return. Default value is 1.\n",
    "  Returns:\n",
    "      list: List of fibonacci sequence values\n",
    "  \"\"\"\n",
    "\n",
    "  fib_list = []\n",
    "  a,b = 0, 1\n",
    "  while a <n:\n",
    "    fib_list.append(a)\n",
    "    next= a+b\n",
    "    a = b\n",
    "    b = next\n",
    "  return fib_list"
   ]
  },
  {
   "cell_type": "code",
   "execution_count": null,
   "metadata": {
    "colab": {
     "base_uri": "https://localhost:8080/"
    },
    "id": "ebCLA2i0CTYR",
    "outputId": "3c75cb20-3f46-49ae-b1b6-b02c16388abf"
   },
   "outputs": [],
   "source": [
    "fib_return()"
   ]
  },
  {
   "cell_type": "code",
   "execution_count": null,
   "metadata": {
    "colab": {
     "base_uri": "https://localhost:8080/"
    },
    "id": "xygNbCn2CVYb",
    "outputId": "ebbf1878-18d9-4782-dead-88e3fd088047"
   },
   "outputs": [],
   "source": [
    "fib_return(10)"
   ]
  },
  {
   "cell_type": "markdown",
   "metadata": {
    "id": "8MsZzoxRCYpi"
   },
   "source": [
    "## Warning about default arguments\n",
    "\n",
    "Your default arguments should never be mutable. Otherwise repeated function calls can interact with each other."
   ]
  },
  {
   "cell_type": "code",
   "execution_count": 1,
   "metadata": {
    "colab": {
     "base_uri": "https://localhost:8080/"
    },
    "id": "Meo-yJDJCXIZ",
    "outputId": "e03e6704-eb4a-4e7f-e33d-ed30a3544109"
   },
   "outputs": [
    {
     "name": "stdout",
     "output_type": "stream",
     "text": [
      "[1]\n",
      "[1, 2]\n",
      "[1, 2, 3]\n"
     ]
    }
   ],
   "source": [
    "# mutable arguments\n",
    "\n",
    "def f(a, L=[]):\n",
    "    L.append(a)\n",
    "    return L\n",
    "\n",
    "print(f(1)) # predict what will happen?\n",
    "print(f(2))\n",
    "print(f(3))"
   ]
  },
  {
   "cell_type": "code",
   "execution_count": null,
   "metadata": {
    "id": "-X_jjjJTChU1"
   },
   "outputs": [],
   "source": [
    "# Which data types are mutable -> dictionaries and lists"
   ]
  },
  {
   "cell_type": "code",
   "execution_count": 2,
   "metadata": {
    "colab": {
     "base_uri": "https://localhost:8080/"
    },
    "id": "FJPmGwvPCkrO",
    "outputId": "d0fe2751-105c-4adc-9eba-4f2d4dcdf29a"
   },
   "outputs": [
    {
     "name": "stdout",
     "output_type": "stream",
     "text": [
      "[1]\n",
      "[2]\n",
      "[3]\n"
     ]
    }
   ],
   "source": [
    "# Solution\n",
    "def f(a, L=None):\n",
    "    if L is None: # None now provides a marker that we would like to use the default argument.\n",
    "        L = []\n",
    "    L.append(a)\n",
    "    return L\n",
    "\n",
    "print(f(1))\n",
    "print(f(2))\n",
    "print(f(3))"
   ]
  },
  {
   "cell_type": "markdown",
   "metadata": {},
   "source": [
    "## Exercise\n",
    "\n",
    "Modify your ```collatz``` function so that it returns a list containing the sequence instead of printing it. Set the default argument to 100."
   ]
  },
  {
   "cell_type": "code",
   "execution_count": 3,
   "metadata": {
    "id": "9NIAPPmyWBn1"
   },
   "outputs": [],
   "source": [
    "def collatz(n):\n",
    "    \"\"\"\n",
    "    takes a starting value and prints the next value of the collatz sequence\n",
    "    \"\"\"\n",
    "    collatz_list = []\n",
    "    while n!=1:\n",
    "        collatz_list.append(n)\n",
    "        if n%2 == 0:\n",
    "            n=(n/2)\n",
    "        else:\n",
    "            n = 3*n+1\n",
    "    return collatz_list\n"
   ]
  },
  {
   "cell_type": "code",
   "execution_count": 4,
   "metadata": {},
   "outputs": [
    {
     "data": {
      "text/plain": [
       "[100,\n",
       " 50.0,\n",
       " 25.0,\n",
       " 76.0,\n",
       " 38.0,\n",
       " 19.0,\n",
       " 58.0,\n",
       " 29.0,\n",
       " 88.0,\n",
       " 44.0,\n",
       " 22.0,\n",
       " 11.0,\n",
       " 34.0,\n",
       " 17.0,\n",
       " 52.0,\n",
       " 26.0,\n",
       " 13.0,\n",
       " 40.0,\n",
       " 20.0,\n",
       " 10.0,\n",
       " 5.0,\n",
       " 16.0,\n",
       " 8.0,\n",
       " 4.0,\n",
       " 2.0]"
      ]
     },
     "execution_count": 4,
     "metadata": {},
     "output_type": "execute_result"
    }
   ],
   "source": [
    "collatz(100)"
   ]
  },
  {
   "cell_type": "markdown",
   "metadata": {},
   "source": [
    "## No challenge problems. Instead, do the WK4 homework.\n",
    "The notebook contains content we won't be going over in class (because we don't have time) but will be useful for you to know about when navigating codebases. The notebook can be found on the github page in the WK4 folder."
   ]
  }
 ],
 "metadata": {
  "colab": {
   "provenance": []
  },
  "kernelspec": {
   "display_name": "Python 3 (ipykernel)",
   "language": "python",
   "name": "python3"
  },
  "language_info": {
   "codemirror_mode": {
    "name": "ipython",
    "version": 3
   },
   "file_extension": ".py",
   "mimetype": "text/x-python",
   "name": "python",
   "nbconvert_exporter": "python",
   "pygments_lexer": "ipython3",
   "version": "3.12.4"
  }
 },
 "nbformat": 4,
 "nbformat_minor": 1
}
